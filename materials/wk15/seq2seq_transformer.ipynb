{
 "cells": [
  {
   "cell_type": "code",
   "execution_count": 1,
   "metadata": {
    "collapsed": true
   },
   "outputs": [],
   "source": [
    "import pandas as pd\n",
    "import numpy as np\n",
    "\n",
    "from torchtext.data.utils import get_tokenizer\n",
    "from torchtext.vocab import build_vocab_from_iterator"
   ]
  },
  {
   "cell_type": "markdown",
   "source": [
    "# Data Preprocessing\n",
    "\n",
    "We use the English-French translation data downloaded last week."
   ],
   "metadata": {
    "collapsed": false
   }
  },
  {
   "cell_type": "code",
   "execution_count": 48,
   "outputs": [
    {
     "data": {
      "text/plain": "                                                        en  \\\n0                                resumption of the session   \n1        i declare resumed the session of the european ...   \n2        although as you will have seen the dreaded mil...   \n3        you have requested a debate on this subject in...   \n4        in the meantime i should like to observe a min...   \n...                                                    ...   \n2007718  i would also like although they are absent to ...   \n2007719  i am not going to reopen the millennium or not...   \n2007720                         adjournment of the session   \n2007721  i declare the session of the european parliame...   \n2007722                       the sitting was closed at am   \n\n                                                        fr  \n0                                    reprise de la session  \n1        je declare reprise la session du parlement eur...  \n2        comme vous avez pu le constater le grand bogue...  \n3        vous avez souhaite un debat a ce sujet dans le...  \n4        en attendant je souhaiterais comme un certain ...  \n...                                                    ...  \n2007718  je me permettrai meme bien quils soient absent...  \n2007719  je ne rouvrirai pas le debat sur le millenaire...  \n2007720                         interruption de la session  \n2007721  je declare interrompue la session du parlement...  \n2007722                              la seance est levee a  \n\n[2007723 rows x 2 columns]",
      "text/html": "<div>\n<style scoped>\n    .dataframe tbody tr th:only-of-type {\n        vertical-align: middle;\n    }\n\n    .dataframe tbody tr th {\n        vertical-align: top;\n    }\n\n    .dataframe thead th {\n        text-align: right;\n    }\n</style>\n<table border=\"1\" class=\"dataframe\">\n  <thead>\n    <tr style=\"text-align: right;\">\n      <th></th>\n      <th>en</th>\n      <th>fr</th>\n    </tr>\n  </thead>\n  <tbody>\n    <tr>\n      <th>0</th>\n      <td>resumption of the session</td>\n      <td>reprise de la session</td>\n    </tr>\n    <tr>\n      <th>1</th>\n      <td>i declare resumed the session of the european ...</td>\n      <td>je declare reprise la session du parlement eur...</td>\n    </tr>\n    <tr>\n      <th>2</th>\n      <td>although as you will have seen the dreaded mil...</td>\n      <td>comme vous avez pu le constater le grand bogue...</td>\n    </tr>\n    <tr>\n      <th>3</th>\n      <td>you have requested a debate on this subject in...</td>\n      <td>vous avez souhaite un debat a ce sujet dans le...</td>\n    </tr>\n    <tr>\n      <th>4</th>\n      <td>in the meantime i should like to observe a min...</td>\n      <td>en attendant je souhaiterais comme un certain ...</td>\n    </tr>\n    <tr>\n      <th>...</th>\n      <td>...</td>\n      <td>...</td>\n    </tr>\n    <tr>\n      <th>2007718</th>\n      <td>i would also like although they are absent to ...</td>\n      <td>je me permettrai meme bien quils soient absent...</td>\n    </tr>\n    <tr>\n      <th>2007719</th>\n      <td>i am not going to reopen the millennium or not...</td>\n      <td>je ne rouvrirai pas le debat sur le millenaire...</td>\n    </tr>\n    <tr>\n      <th>2007720</th>\n      <td>adjournment of the session</td>\n      <td>interruption de la session</td>\n    </tr>\n    <tr>\n      <th>2007721</th>\n      <td>i declare the session of the european parliame...</td>\n      <td>je declare interrompue la session du parlement...</td>\n    </tr>\n    <tr>\n      <th>2007722</th>\n      <td>the sitting was closed at am</td>\n      <td>la seance est levee a</td>\n    </tr>\n  </tbody>\n</table>\n<p>2007723 rows × 2 columns</p>\n</div>"
     },
     "execution_count": 48,
     "metadata": {},
     "output_type": "execute_result"
    }
   ],
   "source": [
    "cleaned_en = pd.read_pickle('../wk14/data/cleaned_en.pkl')\n",
    "cleaned_fr = pd.read_pickle('../wk14/data/cleaned_fr.pkl')\n",
    "\n",
    "en_fr = pd.DataFrame({'en': cleaned_en, 'fr': cleaned_fr})\n",
    "en_fr"
   ],
   "metadata": {
    "collapsed": false
   }
  },
  {
   "cell_type": "code",
   "execution_count": 3,
   "outputs": [
    {
     "name": "stderr",
     "output_type": "stream",
     "text": [
      "2023-02-19 19:17:32.885996: I tensorflow/core/platform/cpu_feature_guard.cc:193] This TensorFlow binary is optimized with oneAPI Deep Neural Network Library (oneDNN) to use the following CPU instructions in performance-critical operations:  AVX2 AVX512F AVX512_VNNI FMA\n",
      "To enable them in other operations, rebuild TensorFlow with the appropriate compiler flags.\n",
      "2023-02-19 19:17:32.956952: I tensorflow/core/util/port.cc:104] oneDNN custom operations are on. You may see slightly different numerical results due to floating-point round-off errors from different computation orders. To turn them off, set the environment variable `TF_ENABLE_ONEDNN_OPTS=0`.\n",
      "2023-02-19 19:17:33.324506: W tensorflow/compiler/xla/stream_executor/platform/default/dso_loader.cc:64] Could not load dynamic library 'libnvinfer.so.7'; dlerror: libnvinfer.so.7: cannot open shared object file: No such file or directory\n",
      "2023-02-19 19:17:33.324542: W tensorflow/compiler/xla/stream_executor/platform/default/dso_loader.cc:64] Could not load dynamic library 'libnvinfer_plugin.so.7'; dlerror: libnvinfer_plugin.so.7: cannot open shared object file: No such file or directory\n",
      "2023-02-19 19:17:33.324546: W tensorflow/compiler/tf2tensorrt/utils/py_utils.cc:38] TF-TRT Warning: Cannot dlopen some TensorRT libraries. If you would like to use Nvidia GPU with TensorRT, please make sure the missing libraries mentioned above are installed properly.\n",
      "2023-02-19 19:17:33.733809: I tensorflow/compiler/xla/stream_executor/cuda/cuda_gpu_executor.cc:981] successful NUMA node read from SysFS had negative value (-1), but there must be at least one NUMA node, so returning NUMA node zero\n",
      "2023-02-19 19:17:33.734009: W tensorflow/compiler/xla/stream_executor/platform/default/dso_loader.cc:64] Could not load dynamic library 'libcufft.so.10'; dlerror: libcufft.so.10: cannot open shared object file: No such file or directory\n",
      "2023-02-19 19:17:33.747847: W tensorflow/compiler/xla/stream_executor/platform/default/dso_loader.cc:64] Could not load dynamic library 'libcusparse.so.11'; dlerror: libcusparse.so.11: cannot open shared object file: No such file or directory\n",
      "2023-02-19 19:17:33.747917: W tensorflow/core/common_runtime/gpu/gpu_device.cc:1934] Cannot dlopen some GPU libraries. Please make sure the missing libraries mentioned above are installed properly if you would like to use GPU. Follow the guide at https://www.tensorflow.org/install/gpu for how to download and setup the required libraries for your platform.\n",
      "Skipping registering GPU devices...\n"
     ]
    }
   ],
   "source": [
    "en_tokenizer = get_tokenizer('spacy', language='en_core_web_sm')\n",
    "fr_tokenizer = get_tokenizer('spacy', language='fr_core_news_sm')"
   ],
   "metadata": {
    "collapsed": false
   }
  },
  {
   "cell_type": "code",
   "execution_count": 4,
   "outputs": [],
   "source": [
    "import pickle\n",
    "from sklearn.model_selection import train_test_split\n",
    "\n",
    "def train_valid_test_split(df, train_size=0.8, valid_size=0.1, test_size=0.1, random_state=None, shuffle=True):\n",
    "    \"\"\"\n",
    "    Split the dataset into train, valid, and test set.\n",
    "    \"\"\"\n",
    "    if shuffle is True:\n",
    "        df = df.sample(frac=1, random_state=random_state)\n",
    "    train_df, test_df = train_test_split(df, test_size=test_size, random_state=random_state)\n",
    "    train_df, valid_df = train_test_split(train_df, test_size=valid_size/(train_size+valid_size), random_state=random_state)\n",
    "    return train_df, valid_df, test_df\n",
    "\n",
    "\n",
    "def build_vocab(df, tokenizer, specials=['<unk>', '<pad>', '<bos>', '<eos>'], min_freq=2):\n",
    "    \"\"\"\n",
    "    Build vocabulary from the dataset.\n",
    "    :param specials:\n",
    "        - <unk>: unknown token\n",
    "        - <pad>: padding token\n",
    "        - <bos>: beginning of sentence token\n",
    "        - <eos>: end of sentence token\n",
    "    :param min_freq: minimum frequency of the token to be included in the vocabulary.\n",
    "    :return:\n",
    "    \"\"\"\n",
    "    vocab = build_vocab_from_iterator(map(tokenizer, df), specials=specials, min_freq=min_freq)\n",
    "    vocab.set_default_index(vocab['<unk>'])\n",
    "    return vocab\n",
    "\n",
    "\n",
    "def save_data(data, path):\n",
    "    with open(path, 'wb') as f:\n",
    "        pickle.dump(data, f)\n",
    "        print(f'Data saved to {path}')"
   ],
   "metadata": {
    "collapsed": false
   }
  },
  {
   "cell_type": "markdown",
   "source": [
    "### Data sampling\n",
    "\n",
    "It is difficult to use all of this data due to memory space issues.\n",
    "Therefore, we will sample sentences that are not too long."
   ],
   "metadata": {
    "collapsed": false
   }
  },
  {
   "cell_type": "code",
   "execution_count": 52,
   "outputs": [],
   "source": [
    "en_num_words = en_fr['en'].apply(lambda x: len(x.split()))\n",
    "fr_num_words = en_fr['fr'].apply(lambda x: len(x.split()))"
   ],
   "metadata": {
    "collapsed": false
   }
  },
  {
   "cell_type": "code",
   "execution_count": 53,
   "outputs": [
    {
     "name": "stdout",
     "output_type": "stream",
     "text": [
      "count    2.007723e+06\n",
      "mean     2.476032e+01\n",
      "std      1.486027e+01\n",
      "min      0.000000e+00\n",
      "25%      1.400000e+01\n",
      "50%      2.200000e+01\n",
      "75%      3.200000e+01\n",
      "max      6.420000e+02\n",
      "Name: en, dtype: float64\n"
     ]
    },
    {
     "data": {
      "text/plain": "<Axes: ylabel='Frequency'>"
     },
     "execution_count": 53,
     "metadata": {},
     "output_type": "execute_result"
    },
    {
     "data": {
      "text/plain": "<Figure size 640x480 with 1 Axes>",
      "image/png": "[encoded data removed]"
     },
     "metadata": {},
     "output_type": "display_data"
    }
   ],
   "source": [
    "# inspect the distribution of the number of words in the sentences\n",
    "print(en_num_words.describe())\n",
    "en_num_words.plot(kind='hist', bins=100)"
   ],
   "metadata": {
    "collapsed": false
   }
  },
  {
   "cell_type": "code",
   "execution_count": 54,
   "outputs": [
    {
     "name": "stdout",
     "output_type": "stream",
     "text": [
      "count    2.007723e+06\n",
      "mean     2.585904e+01\n",
      "std      1.563403e+01\n",
      "min      0.000000e+00\n",
      "25%      1.500000e+01\n",
      "50%      2.300000e+01\n",
      "75%      3.400000e+01\n",
      "max      5.980000e+02\n",
      "Name: fr, dtype: float64\n"
     ]
    },
    {
     "data": {
      "text/plain": "<Axes: ylabel='Frequency'>"
     },
     "execution_count": 54,
     "metadata": {},
     "output_type": "execute_result"
    },
    {
     "data": {
      "text/plain": "<Figure size 640x480 with 1 Axes>",
      "image/png": "[encoded data removed]"
     },
     "metadata": {},
     "output_type": "display_data"
    }
   ],
   "source": [
    "print(fr_num_words.describe())\n",
    "fr_num_words.plot(kind='hist', bins=100)"
   ],
   "metadata": {
    "collapsed": false
   }
  },
  {
   "cell_type": "code",
   "execution_count": 55,
   "outputs": [
    {
     "data": {
      "text/plain": "                                                        en  \\\n0                                resumption of the session   \n1        i declare resumed the session of the european ...   \n2        although as you will have seen the dreaded mil...   \n3        you have requested a debate on this subject in...   \n4        in the meantime i should like to observe a min...   \n...                                                    ...   \n2007718  i would also like although they are absent to ...   \n2007719  i am not going to reopen the millennium or not...   \n2007720                         adjournment of the session   \n2007721  i declare the session of the european parliame...   \n2007722                       the sitting was closed at am   \n\n                                                        fr  \n0                                    reprise de la session  \n1        je declare reprise la session du parlement eur...  \n2        comme vous avez pu le constater le grand bogue...  \n3        vous avez souhaite un debat a ce sujet dans le...  \n4        en attendant je souhaiterais comme un certain ...  \n...                                                    ...  \n2007718  je me permettrai meme bien quils soient absent...  \n2007719  je ne rouvrirai pas le debat sur le millenaire...  \n2007720                         interruption de la session  \n2007721  je declare interrompue la session du parlement...  \n2007722                              la seance est levee a  \n\n[1984674 rows x 2 columns]",
      "text/html": "<div>\n<style scoped>\n    .dataframe tbody tr th:only-of-type {\n        vertical-align: middle;\n    }\n\n    .dataframe tbody tr th {\n        vertical-align: top;\n    }\n\n    .dataframe thead th {\n        text-align: right;\n    }\n</style>\n<table border=\"1\" class=\"dataframe\">\n  <thead>\n    <tr style=\"text-align: right;\">\n      <th></th>\n      <th>en</th>\n      <th>fr</th>\n    </tr>\n  </thead>\n  <tbody>\n    <tr>\n      <th>0</th>\n      <td>resumption of the session</td>\n      <td>reprise de la session</td>\n    </tr>\n    <tr>\n      <th>1</th>\n      <td>i declare resumed the session of the european ...</td>\n      <td>je declare reprise la session du parlement eur...</td>\n    </tr>\n    <tr>\n      <th>2</th>\n      <td>although as you will have seen the dreaded mil...</td>\n      <td>comme vous avez pu le constater le grand bogue...</td>\n    </tr>\n    <tr>\n      <th>3</th>\n      <td>you have requested a debate on this subject in...</td>\n      <td>vous avez souhaite un debat a ce sujet dans le...</td>\n    </tr>\n    <tr>\n      <th>4</th>\n      <td>in the meantime i should like to observe a min...</td>\n      <td>en attendant je souhaiterais comme un certain ...</td>\n    </tr>\n    <tr>\n      <th>...</th>\n      <td>...</td>\n      <td>...</td>\n    </tr>\n    <tr>\n      <th>2007718</th>\n      <td>i would also like although they are absent to ...</td>\n      <td>je me permettrai meme bien quils soient absent...</td>\n    </tr>\n    <tr>\n      <th>2007719</th>\n      <td>i am not going to reopen the millennium or not...</td>\n      <td>je ne rouvrirai pas le debat sur le millenaire...</td>\n    </tr>\n    <tr>\n      <th>2007720</th>\n      <td>adjournment of the session</td>\n      <td>interruption de la session</td>\n    </tr>\n    <tr>\n      <th>2007721</th>\n      <td>i declare the session of the european parliame...</td>\n      <td>je declare interrompue la session du parlement...</td>\n    </tr>\n    <tr>\n      <th>2007722</th>\n      <td>the sitting was closed at am</td>\n      <td>la seance est levee a</td>\n    </tr>\n  </tbody>\n</table>\n<p>1984674 rows × 2 columns</p>\n</div>"
     },
     "execution_count": 55,
     "metadata": {},
     "output_type": "execute_result"
    }
   ],
   "source": [
    "en_fr = en_fr[(en_num_words <= 75) & (fr_num_words <= 75)]\n",
    "en_fr"
   ],
   "metadata": {
    "collapsed": false
   }
  },
  {
   "cell_type": "code",
   "execution_count": 56,
   "outputs": [],
   "source": [
    "train_df, valid_df, test_df = train_valid_test_split(en_fr, train_size=0.8, valid_size=0.1, test_size=0.1, random_state=42, shuffle=True)"
   ],
   "metadata": {
    "collapsed": false
   }
  },
  {
   "cell_type": "code",
   "execution_count": 58,
   "outputs": [
    {
     "data": {
      "text/plain": "(58260, 81906)"
     },
     "execution_count": 58,
     "metadata": {},
     "output_type": "execute_result"
    }
   ],
   "source": [
    "en_vocab = build_vocab(train_df['en'], en_tokenizer)\n",
    "fr_vocab = build_vocab(train_df['fr'], fr_tokenizer)\n",
    "len(en_vocab), len(fr_vocab)"
   ],
   "metadata": {
    "collapsed": false
   }
  },
  {
   "cell_type": "code",
   "execution_count": 59,
   "outputs": [
    {
     "name": "stdout",
     "output_type": "stream",
     "text": [
      "Data saved to data/train_valid_test.pkl\n",
      "Data saved to data/vocab.pkl\n"
     ]
    }
   ],
   "source": [
    "save_data((train_df, valid_df, test_df), 'data/train_valid_test.pkl')\n",
    "save_data((en_vocab, fr_vocab), 'data/vocab.pkl')"
   ],
   "metadata": {
    "collapsed": false
   }
  },
  {
   "cell_type": "markdown",
   "source": [
    "# Train"
   ],
   "metadata": {
    "collapsed": false
   }
  },
  {
   "cell_type": "code",
   "execution_count": 1,
   "outputs": [],
   "source": [
    "import numpy as np\n",
    "import pandas as pd\n",
    "\n",
    "import torch as th\n",
    "import torch.nn as nn\n",
    "import torch.nn.functional as F\n",
    "\n",
    "import re, string\n",
    "from unicodedata import normalize\n",
    "\n",
    "from typing import Optional, List, Tuple, Dict, Iterable, Callable\n",
    "\n",
    "def clean_lines(lines):\n",
    "    if isinstance(lines, list):\n",
    "        return [clean_lines(line) for line in lines]\n",
    "\n",
    "    is_question = lines.endswith('?')\n",
    "    remove_punctuation = str.maketrans('', '', string.punctuation)\n",
    "    lines = normalize('NFD', lines).encode('ascii', 'ignore')\n",
    "    lines = lines.decode('UTF-8')\n",
    "    lines = lines.lower()\n",
    "    lines = lines.translate(remove_punctuation)\n",
    "    lines = re.sub(rf'[^{re.escape(string.printable)}]', '', lines)\n",
    "\n",
    "    lines = [word for word in lines.split() if word.isalpha()]\n",
    "    if is_question:\n",
    "        lines.append('?')\n",
    "    return ' '.join(lines)"
   ],
   "metadata": {
    "collapsed": false
   }
  },
  {
   "cell_type": "code",
   "execution_count": 2,
   "outputs": [
    {
     "name": "stderr",
     "output_type": "stream",
     "text": [
      "2023-02-20 23:21:21.619205: I tensorflow/core/platform/cpu_feature_guard.cc:193] This TensorFlow binary is optimized with oneAPI Deep Neural Network Library (oneDNN) to use the following CPU instructions in performance-critical operations:  AVX2 AVX512F AVX512_VNNI FMA\n",
      "To enable them in other operations, rebuild TensorFlow with the appropriate compiler flags.\n",
      "2023-02-20 23:21:21.700119: I tensorflow/core/util/port.cc:104] oneDNN custom operations are on. You may see slightly different numerical results due to floating-point round-off errors from different computation orders. To turn them off, set the environment variable `TF_ENABLE_ONEDNN_OPTS=0`.\n",
      "2023-02-20 23:21:22.074751: W tensorflow/compiler/xla/stream_executor/platform/default/dso_loader.cc:64] Could not load dynamic library 'libnvinfer.so.7'; dlerror: libnvinfer.so.7: cannot open shared object file: No such file or directory\n",
      "2023-02-20 23:21:22.074794: W tensorflow/compiler/xla/stream_executor/platform/default/dso_loader.cc:64] Could not load dynamic library 'libnvinfer_plugin.so.7'; dlerror: libnvinfer_plugin.so.7: cannot open shared object file: No such file or directory\n",
      "2023-02-20 23:21:22.074799: W tensorflow/compiler/tf2tensorrt/utils/py_utils.cc:38] TF-TRT Warning: Cannot dlopen some TensorRT libraries. If you would like to use Nvidia GPU with TensorRT, please make sure the missing libraries mentioned above are installed properly.\n",
      "2023-02-20 23:21:22.459012: I tensorflow/compiler/xla/stream_executor/cuda/cuda_gpu_executor.cc:981] successful NUMA node read from SysFS had negative value (-1), but there must be at least one NUMA node, so returning NUMA node zero\n",
      "2023-02-20 23:21:22.459224: W tensorflow/compiler/xla/stream_executor/platform/default/dso_loader.cc:64] Could not load dynamic library 'libcufft.so.10'; dlerror: libcufft.so.10: cannot open shared object file: No such file or directory\n",
      "2023-02-20 23:21:22.473347: W tensorflow/compiler/xla/stream_executor/platform/default/dso_loader.cc:64] Could not load dynamic library 'libcusparse.so.11'; dlerror: libcusparse.so.11: cannot open shared object file: No such file or directory\n",
      "2023-02-20 23:21:22.473401: W tensorflow/core/common_runtime/gpu/gpu_device.cc:1934] Cannot dlopen some GPU libraries. Please make sure the missing libraries mentioned above are installed properly if you would like to use GPU. Follow the guide at https://www.tensorflow.org/install/gpu for how to download and setup the required libraries for your platform.\n",
      "Skipping registering GPU devices...\n"
     ]
    }
   ],
   "source": [
    "from torchtext.data.utils import get_tokenizer\n",
    "\n",
    "train_df, valid_df, test_df = pd.read_pickle('data/train_valid_test.pkl')\n",
    "en_vocab, fr_vocab = pd.read_pickle('data/vocab.pkl')\n",
    "en_tokenizer = get_tokenizer('spacy', language='en_core_web_sm')\n",
    "fr_tokenizer = get_tokenizer('spacy', language='fr_core_news_sm')"
   ],
   "metadata": {
    "collapsed": false
   }
  },
  {
   "cell_type": "code",
   "execution_count": 3,
   "outputs": [],
   "source": [
    "SRC_LANG = 'fr'\n",
    "TGT_LANG = 'en'\n",
    "\n",
    "vocab_transform = {\n",
    "    # List[str] -> List[int]\n",
    "    'fr': fr_vocab,\n",
    "    'en': en_vocab\n",
    "}\n",
    "\n",
    "tokenizer_transform = {\n",
    "    # str -> List[str]\n",
    "    'fr': fr_tokenizer,\n",
    "    'en': en_tokenizer\n",
    "}"
   ],
   "metadata": {
    "collapsed": false
   }
  },
  {
   "cell_type": "code",
   "execution_count": 4,
   "outputs": [],
   "source": [
    "from torch.nn.utils.rnn import pad_sequence\n",
    "\n",
    "BOS_IDX = vocab_transform[TGT_LANG]['<bos>']\n",
    "EOS_IDX = vocab_transform[TGT_LANG]['<eos>']\n",
    "PAD_IDX = vocab_transform[TGT_LANG]['<pad>']\n",
    "\n",
    "def sequential_transforms(*transforms):\n",
    "    # Compose several transforms to be applied sequentially.\n",
    "    def func(txt_input):\n",
    "        for transform in transforms:\n",
    "            txt_input = transform(txt_input)\n",
    "        return txt_input\n",
    "    return func\n",
    "\n",
    "def append_special(token_ids: List[int]):\n",
    "    return th.cat([\n",
    "        th.tensor([BOS_IDX]),\n",
    "        th.tensor(token_ids),\n",
    "        th.tensor([EOS_IDX])\n",
    "    ])\n",
    "\n",
    "text_transform = {lang: sequential_transforms(tokenizer_transform[lang],\n",
    "                                               vocab_transform[lang],\n",
    "                                               append_special)\n",
    "                    for lang in [SRC_LANG, TGT_LANG]}"
   ],
   "metadata": {
    "collapsed": false
   }
  },
  {
   "cell_type": "code",
   "execution_count": 5,
   "outputs": [],
   "source": [
    "def collate_fn(batch):\n",
    "    \"\"\"\n",
    "    Collate function defines how to process a batch of data into a batch of tensors.\n",
    "    \"\"\"\n",
    "    src_batch, tgt_batch = [], []\n",
    "    for src_sample, tgt_sample in batch:\n",
    "        src_batch.append(text_transform[SRC_LANG](src_sample.rstrip(\"\\n\")))\n",
    "        tgt_batch.append(text_transform[TGT_LANG](tgt_sample.rstrip(\"\\n\")))\n",
    "    src_batch = pad_sequence(src_batch, padding_value=PAD_IDX)\n",
    "    tgt_batch = pad_sequence(tgt_batch, padding_value=PAD_IDX)\n",
    "    return src_batch, tgt_batch"
   ],
   "metadata": {
    "collapsed": false
   }
  },
  {
   "cell_type": "code",
   "execution_count": 6,
   "outputs": [],
   "source": [
    "from torch.utils.data import DataLoader\n",
    "\n",
    "BATCH_SIZE = 64\n",
    "train_iter = DataLoader(list(zip(train_df[SRC_LANG], train_df[TGT_LANG])),\n",
    "                        batch_size=BATCH_SIZE, shuffle=True, collate_fn=collate_fn)\n",
    "\n",
    "valid_iter = DataLoader(list(zip(valid_df[SRC_LANG], valid_df[TGT_LANG])),\n",
    "                        batch_size=BATCH_SIZE, shuffle=True, collate_fn=collate_fn)\n",
    "\n",
    "test_iter = DataLoader(list(zip(test_df[SRC_LANG], test_df[TGT_LANG])),\n",
    "                          batch_size=BATCH_SIZE, shuffle=True, collate_fn=collate_fn)"
   ],
   "metadata": {
    "collapsed": false
   }
  },
  {
   "cell_type": "code",
   "execution_count": 7,
   "outputs": [],
   "source": [
    "src_data, tgt_data = next(iter(train_iter))"
   ],
   "metadata": {
    "collapsed": false
   }
  },
  {
   "cell_type": "code",
   "execution_count": 10,
   "outputs": [
    {
     "data": {
      "text/plain": "(torch.Size([65, 64]), torch.Size([65, 64]))"
     },
     "execution_count": 10,
     "metadata": {},
     "output_type": "execute_result"
    }
   ],
   "source": [
    "src_data.shape, tgt_data.shape"
   ],
   "metadata": {
    "collapsed": false
   }
  },
  {
   "cell_type": "code",
   "execution_count": 11,
   "outputs": [
    {
     "data": {
      "text/plain": "'<bos> si apres tout cela lunion europeenne lance des procedures dinfraction a lencontre du gouvernement et de letat hongrois actuels cela ouvrira finalement les yeux de ceux qui se faisaient encore des illusions quant a lattitude de lunion europeenne a legard de la hongrie et je pense que la nation hongroise demandera son retrait de lunion europeenne et que dautres suivront notre exemple <eos> <pad>'"
     },
     "execution_count": 11,
     "metadata": {},
     "output_type": "execute_result"
    }
   ],
   "source": [
    "' '.join([vocab_transform[SRC_LANG].get_itos()[i] for i in src_data[:, 0]])"
   ],
   "metadata": {
    "collapsed": false
   }
  },
  {
   "cell_type": "code",
   "execution_count": 12,
   "outputs": [
    {
     "data": {
      "text/plain": "'<bos> if after all this the european union launches infringement proceedings against the current hungarian government and state it will finally open the eyes of those who have ever had any illusions concerning the european unions attitude towards hungary and i believe that the hungarian nation will demand our secession from the european union and there will be some who will follow our example <eos>'"
     },
     "execution_count": 12,
     "metadata": {},
     "output_type": "execute_result"
    }
   ],
   "source": [
    "' '.join([vocab_transform[TGT_LANG].get_itos()[i] for i in tgt_data[:, 0]])"
   ],
   "metadata": {
    "collapsed": false
   }
  },
  {
   "cell_type": "code",
   "execution_count": 8,
   "outputs": [],
   "source": [
    "class PositionalEncoding(nn.Module):\n",
    "    def __init__(self,\n",
    "                 emb_dim: int,\n",
    "                 dropout: float = 0.1,\n",
    "                 max_len: int = 5000,\n",
    "                 batch_first: bool = False):\n",
    "\n",
    "        super(PositionalEncoding, self).__init__()\n",
    "        self.batch_first = batch_first\n",
    "        density = th.exp(-th.arange(0, emb_dim, 2) * np.log(10000) / emb_dim)\n",
    "        pos = th.arange(0, max_len).unsqueeze(1)\n",
    "        pos_embedding = th.zeros((max_len, emb_dim))\n",
    "        pos_embedding[:, 0::2] = th.sin(pos * density)\n",
    "        pos_embedding[:, 1::2] = th.cos(pos * density)\n",
    "        pos_embedding = pos_embedding.unsqueeze(-2)  # [max_len, 1, emb_dim]\n",
    "\n",
    "        self.dropout = nn.Dropout(p=dropout)\n",
    "        self.register_buffer('pos_embedding', pos_embedding)\n",
    "\n",
    "    def forward(self, x):\n",
    "        # x = [seq_len, batch_size, emb_dim] or [batch_size, seq_len, emb_dim]\n",
    "        if self.batch_first:\n",
    "            return self.dropout(x + self.pos_embedding[:x.size(1), :].permute(1, 0, 2))\n",
    "        else:\n",
    "            return self.dropout(x + self.pos_embedding[:x.size(0), :])\n",
    "\n",
    "class TokenEmbedding(nn.Module):\n",
    "    def __init__(self, vocab_size: int, emb_dim: int):\n",
    "        super(TokenEmbedding, self).__init__()\n",
    "        self.emb = nn.Embedding(vocab_size, emb_dim)\n",
    "        self.emb_dim = emb_dim\n",
    "\n",
    "    def forward(self, x):\n",
    "        # x = [seq_len, batch_size]\n",
    "        return self.emb(x.long()) * np.sqrt(self.emb_dim)"
   ],
   "metadata": {
    "collapsed": false
   }
  },
  {
   "cell_type": "code",
   "execution_count": 9,
   "outputs": [
    {
     "data": {
      "text/plain": "torch.Size([48, 1, 512])"
     },
     "execution_count": 9,
     "metadata": {},
     "output_type": "execute_result"
    }
   ],
   "source": [
    "import matplotlib.pyplot as plt\n",
    "\n",
    "pos = PositionalEncoding(512, dropout=0.1, max_len=48, batch_first=False)\n",
    "positional_vector = pos.pos_embedding\n",
    "positional_vector.shape"
   ],
   "metadata": {
    "collapsed": false
   }
  },
  {
   "cell_type": "code",
   "execution_count": 10,
   "outputs": [
    {
     "data": {
      "text/plain": "<matplotlib.colorbar.Colorbar at 0x7f044d590490>"
     },
     "execution_count": 10,
     "metadata": {},
     "output_type": "execute_result"
    },
    {
     "data": {
      "text/plain": "<Figure size 640x480 with 2 Axes>",
      "image/png": "[encoded data removed]"
     },
     "metadata": {},
     "output_type": "display_data"
    }
   ],
   "source": [
    "plt.pcolormesh(positional_vector[:, 0], cmap='RdBu')\n",
    "plt.xlim(0, 512)\n",
    "plt.colorbar()"
   ],
   "metadata": {
    "collapsed": false
   }
  },
  {
   "cell_type": "code",
   "execution_count": 11,
   "outputs": [],
   "source": [
    "class TransformerSeq2Seq(nn.Module):\n",
    "    def __init__(self,\n",
    "                 num_enc_layers: int,\n",
    "                 num_dec_layers: int,\n",
    "                 emb_dim: int,\n",
    "                 n_heads: int,\n",
    "                 src_vocab_size: int,\n",
    "                 tgt_vocab_size: int,\n",
    "                 dim_ff: int = 512,\n",
    "                 dropout: float = 0.1,\n",
    "                 batch_first: bool = False):\n",
    "        super(TransformerSeq2Seq, self).__init__()\n",
    "        self.batch_first = batch_first\n",
    "        self.src_emb = nn.Sequential(TokenEmbedding(src_vocab_size, emb_dim),\n",
    "                                     PositionalEncoding(emb_dim, dropout=dropout, batch_first=batch_first))\n",
    "        self.tgt_emb = nn.Sequential(TokenEmbedding(tgt_vocab_size, emb_dim),\n",
    "                                     PositionalEncoding(emb_dim, dropout=dropout, batch_first=batch_first))\n",
    "        self.transformer = nn.Transformer(d_model=emb_dim,\n",
    "                                          nhead=n_heads,\n",
    "                                          num_encoder_layers=num_enc_layers,\n",
    "                                          num_decoder_layers=num_dec_layers,\n",
    "                                          dim_feedforward=dim_ff,\n",
    "                                          dropout=dropout,\n",
    "                                          batch_first=batch_first)\n",
    "        self.regressor = nn.Linear(emb_dim, tgt_vocab_size)\n",
    "\n",
    "    def forward(self, src: th.Tensor, tgt: th.Tensor,\n",
    "                src_mask: th.Tensor = None, tgt_mask: th.Tensor = None,\n",
    "                src_padding_mask: th.Tensor = None,\n",
    "                tgt_padding_mask: th.Tensor = None,\n",
    "                memory_key_padding_mask: th.Tensor = None) -> th.Tensor:\n",
    "        \"\"\"\n",
    "\n",
    "        :param src:         [seq_len, bs] or [bs, seq_len]\n",
    "        :param tgt:         [seq_len, bs] or [bs, seq_len]\n",
    "        :param src_mask:    [seq_len, bs, seq_len] or [bs, seq_len, seq_len]\n",
    "        :param tgt_mask:    [seq_len, bs, seq_len] or [bs, seq_len, seq_len]\n",
    "        :param src_padding_mask:    [seq_len, bs] or [bs, seq_len]\n",
    "        :param tgt_padding_mask:    [seq_len, bs] or [bs, seq_len]\n",
    "        :param memory_key_padding_mask: [seq_len, bs] or [bs, seq_len]\n",
    "        :return:    [seq_len, bs, vocab_size] or [bs, seq_len, vocab_size]\n",
    "        \"\"\"\n",
    "        # src = [seq_len, batch_size] or [batch_size, seq_len]\n",
    "        # tgt = [seq_len, batch_size] or [batch_size, seq_len]\n",
    "        src = self.src_emb(src)\n",
    "        tgt = self.tgt_emb(tgt)\n",
    "        # [seq_len, bs, emb_dim] or [bs, seq_len, emb_dim]\n",
    "        output = self.transformer(src, tgt,\n",
    "                                  src_mask=src_mask, tgt_mask=tgt_mask,\n",
    "                                  src_key_padding_mask=src_padding_mask,\n",
    "                                  tgt_key_padding_mask=tgt_padding_mask,\n",
    "                                  memory_key_padding_mask=memory_key_padding_mask)\n",
    "\n",
    "        output = self.regressor(output)\n",
    "        return output\n",
    "\n",
    "    def encode(self, src: th.Tensor, src_mask: th.Tensor):\n",
    "        src = self.src_emb(src)\n",
    "        return self.transformer.encoder(src, src_mask=src_mask)\n",
    "\n",
    "    def decode(self, tgt: th.Tensor, memory: th.Tensor, tgt_mask: th.Tensor = None, memory_mask: th.Tensor=None):\n",
    "        tgt = self.tgt_emb(tgt)\n",
    "        return self.transformer.decoder(tgt, memory, tgt_mask=tgt_mask, memory_mask=memory_mask)"
   ],
   "metadata": {
    "collapsed": false
   }
  },
  {
   "cell_type": "code",
   "execution_count": 13,
   "outputs": [
    {
     "name": "stdout",
     "output_type": "stream",
     "text": [
      "tensor([[-inf, -inf, -inf, -inf, -inf, -inf],\n",
      "        [0., -inf, -inf, -inf, -inf, -inf],\n",
      "        [0., 0., -inf, -inf, -inf, -inf],\n",
      "        [0., 0., 0., -inf, -inf, -inf],\n",
      "        [0., 0., 0., 0., -inf, -inf],\n",
      "        [0., 0., 0., 0., 0., -inf]])\n",
      "src_mask:\n",
      "tensor([[1., 1., 1., 1., 1., 1.],\n",
      "        [1., 1., 1., 1., 1., 1.],\n",
      "        [1., 1., 1., 1., 1., 1.],\n",
      "        [1., 1., 1., 1., 1., 1.],\n",
      "        [1., 1., 1., 1., 1., 1.],\n",
      "        [1., 1., 1., 1., 1., 1.]])\n",
      "tgt_mask:\n",
      "tensor([[-inf, -inf, -inf, -inf, -inf, -inf],\n",
      "        [0., -inf, -inf, -inf, -inf, -inf],\n",
      "        [0., 0., -inf, -inf, -inf, -inf],\n",
      "        [0., 0., 0., -inf, -inf, -inf],\n",
      "        [0., 0., 0., 0., -inf, -inf],\n",
      "        [0., 0., 0., 0., 0., -inf]])\n",
      "src_pad_mask:\n",
      "tensor([[False, False, False, False,  True,  True],\n",
      "        [False, False, False, False,  True,  True]])\n",
      "tgt_pad_mask:\n",
      "tensor([[ True,  True, False, False, False, False],\n",
      "        [ True,  True, False, False, False, False]])\n"
     ]
    }
   ],
   "source": [
    "def look_ahead_mask(seq_len: int, device: th.device = th.device('cpu')):\n",
    "    # look ahead mask for decoder 1'st layer\n",
    "    mask = th.triu(th.ones((seq_len, seq_len), device=device), diagonal=1).transpose(0, 1)\n",
    "    mask = mask.masked_fill(mask == 0, float('-inf'))\n",
    "    mask = mask.masked_fill(mask == 1, float(0.0))\n",
    "    return mask\n",
    "\n",
    "def create_mask(src: th.Tensor, tgt: th.Tensor, pad_idx: int = PAD_IDX, batch_first: bool = False):\n",
    "    \"\"\"\n",
    "    src_mask: all True mask, [seq_len, seq_len]\n",
    "    tgt_mask: look ahead mask, [seq_len, seq_len]\n",
    "    src_padding_mask: [seq_len, bs] or [bs, seq_len]\n",
    "    tgt_padding_mask: [seq_len, bs] or [bs, seq_len]\n",
    "    \"\"\"\n",
    "    src_seq_len = src.size(-1 if batch_first else 0)\n",
    "    tgt_seq_len = tgt.size(-1 if batch_first else 0)\n",
    "\n",
    "    tgt_mask = look_ahead_mask(tgt_seq_len, device=tgt.device)\n",
    "    src_mask = th.ones((src_seq_len, src_seq_len), device=src.device)\n",
    "\n",
    "    src_padding_mask = (src == pad_idx)\n",
    "    tgt_padding_mask = (tgt == pad_idx)\n",
    "    if not batch_first:\n",
    "        src_padding_mask = src_padding_mask.transpose(0, 1)\n",
    "        tgt_padding_mask = tgt_padding_mask.transpose(0, 1)\n",
    "    return src_mask, tgt_mask, src_padding_mask, tgt_padding_mask\n",
    "\n",
    "\n",
    "print(look_ahead_mask(6))\n",
    "src_mask, tgt_mask, src_pad_mask, tgt_pad_mask = create_mask(th.tensor([5,6,7,8,1,1]).view(-1, 1).repeat(1, 2),\n",
    "                                                             th.tensor([1,1,7,8,9,10]).view(-1, 1).repeat(1, 2),\n",
    "                                                             batch_first=False)\n",
    "print(f'src_mask:\\n{src_mask}')\n",
    "print(f'tgt_mask:\\n{tgt_mask}')\n",
    "print(f'src_pad_mask:\\n{src_pad_mask}')\n",
    "print(f'tgt_pad_mask:\\n{tgt_pad_mask}')"
   ],
   "metadata": {
    "collapsed": false
   }
  },
  {
   "cell_type": "code",
   "execution_count": 14,
   "outputs": [],
   "source": [
    "th.manual_seed(42)\n",
    "\n",
    "src_vocab_size = len(vocab_transform[SRC_LANG])\n",
    "tgt_vocab_size = len(vocab_transform[TGT_LANG])\n",
    "emb_dim = 512\n",
    "n_heads = 8\n",
    "num_enc_layers = 3\n",
    "num_dec_layers = 3\n",
    "dim_ff = 512\n",
    "dropout = 0.1\n",
    "\n",
    "batch_size = 128\n",
    "\n",
    "model = TransformerSeq2Seq(num_enc_layers=num_enc_layers,\n",
    "                           num_dec_layers=num_dec_layers,\n",
    "                           emb_dim=emb_dim,\n",
    "                           n_heads=n_heads,\n",
    "                           src_vocab_size=src_vocab_size,\n",
    "                           tgt_vocab_size=tgt_vocab_size,\n",
    "                           dim_ff=dim_ff,\n",
    "                           dropout=dropout)\n",
    "\n",
    "criterion = nn.CrossEntropyLoss(ignore_index=PAD_IDX)\n",
    "# to see the def of Adam, see https://velog.io/@viriditass/%EB%82%B4%EA%B0%80-%EB%B3%B4%EB%A0%A4%EA%B3%A0-%EB%A7%8C%EB%93%A0-Optimizier-%EC%A0%95%EB%A6%AC\n",
    "optimizer = th.optim.Adam(model.parameters(), lr=0.0001,\n",
    "                          betas=(0.9, 0.98), eps=1e-9)"
   ],
   "metadata": {
    "collapsed": false
   }
  },
  {
   "cell_type": "code",
   "execution_count": 15,
   "outputs": [],
   "source": [
    "from tqdm import tqdm\n",
    "from torch.utils.data import DataLoader\n",
    "\n",
    "def train(model: TransformerSeq2Seq,\n",
    "          dataloader: DataLoader,\n",
    "          optimizer: th.optim.Optimizer,\n",
    "          criterion: nn.Module,\n",
    "          device: th.device = th.device('cpu')):\n",
    "\n",
    "    model.train()\n",
    "    epoch_loss = 0\n",
    "    progress_bar = tqdm(dataloader, total=len(dataloader), postfix='Train: ')\n",
    "    for i, (src, tgt) in enumerate(progress_bar):\n",
    "        src = src.to(device)\n",
    "        tgt = tgt.to(device)\n",
    "\n",
    "        decoder_input = tgt[:-1, :] # exclude the last token\n",
    "        src_mask, tgt_mask, src_pad_mask, tgt_pad_mask = create_mask(src, tgt)\n",
    "        logits = model(src, decoder_input, src_mask, tgt_mask,\n",
    "                       src_padding_mask=src_pad_mask,\n",
    "                       tgt_padding_mask=tgt_pad_mask,\n",
    "                       memory_key_padding_mask=src_pad_mask)\n",
    "\n",
    "        optimizer.zero_grad()\n",
    "        tgt_out = tgt[1:, :].view(-1) # exclude the first token\n",
    "        output = logits.view(-1, logits.shape[-1])\n",
    "        loss = criterion(output, tgt_out)\n",
    "        loss.backward()\n",
    "        optimizer.step()\n",
    "        epoch_loss += loss.item()\n",
    "        progress_bar.set_description(f'loss: {epoch_loss / (i + 1):.3f}')\n",
    "\n",
    "        if i % 30 == 0:\n",
    "            th.cuda.empty_cache()\n",
    "\n",
    "    return epoch_loss / len(dataloader)\n",
    "\n",
    "def evaluate(model: TransformerSeq2Seq,\n",
    "             dataloader: DataLoader,\n",
    "             criterion: nn.Module,\n",
    "             device: th.device = th.device('cpu')):\n",
    "\n",
    "    model.eval()\n",
    "    losses = 0\n",
    "    progress_bar = tqdm(dataloader, total=len(dataloader), postfix='Eval: ')\n",
    "    with th.no_grad():\n",
    "        for i, (src, tgt) in enumerate(progress_bar):\n",
    "            src = src.to(device)\n",
    "            tgt = tgt.to(device)\n",
    "\n",
    "            decoder_input = tgt[:-1, :] # exclude the last token\n",
    "            src_mask, tgt_mask, src_pad_mask, tgt_pad_mask = create_mask(src, tgt)\n",
    "            logits = model(src, decoder_input, src_mask, tgt_mask,\n",
    "                           src_padding_mask=src_pad_mask,\n",
    "                           tgt_padding_mask=tgt_pad_mask,\n",
    "                           memory_key_padding_mask=src_pad_mask)\n",
    "\n",
    "            tgt_out = tgt[1:, :].view(-1) # exclude the first token\n",
    "            output = logits.view(-1, logits.shape[-1])\n",
    "            loss = criterion(output, tgt_out)\n",
    "            losses += loss.item()\n",
    "            progress_bar.set_description(f'loss: {losses / (i + 1):.3f}')\n",
    "\n",
    "    th.cuda.empty_cache()\n",
    "    return losses / len(dataloader)"
   ],
   "metadata": {
    "collapsed": false
   }
  }
 ],
 "metadata": {
  "kernelspec": {
   "display_name": "Python 3",
   "language": "python",
   "name": "python3"
  },
  "language_info": {
   "codemirror_mode": {
    "name": "ipython",
    "version": 2
   },
   "file_extension": ".py",
   "mimetype": "text/x-python",
   "name": "python",
   "nbconvert_exporter": "python",
   "pygments_lexer": "ipython2",
   "version": "2.7.6"
  }
 },
 "nbformat": 4,
 "nbformat_minor": 0
}
